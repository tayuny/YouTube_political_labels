{
 "cells": [
  {
   "cell_type": "code",
   "execution_count": 1,
   "metadata": {},
   "outputs": [],
   "source": [
    "import numpy as np\n",
    "import pandas as pd\n",
    "import re\n",
    "from collections import Counter\n",
    "from functionized_code.data_pipeline import DEFAULT_KWARGS, get_labels_and_corpus, __make_vocab, __make_index\n",
    "from run_pipeline import LABEL_TO_IDX, get_data, get_column_indices\n",
    "\n",
    "IDX_TO_LABEL = {i: l for l, i in LABEL_TO_IDX.items()}"
   ]
  },
  {
   "cell_type": "code",
   "execution_count": 2,
   "metadata": {},
   "outputs": [],
   "source": [
    "# Set parameters for vocabulary.\n",
    "MAX_VOCAB = 25000\n",
    "NGRAMS = 1\n",
    "IDX_TARGET = LABEL_TO_IDX['News & Politics']\n",
    "\n",
    "# Identify the names of the columns for the labels and corpus.\n",
    "col_labels = 'category_id'\n",
    "col_corpus = ['title', 'tags', 'description', 'caption']"
   ]
  },
  {
   "cell_type": "code",
   "execution_count": 3,
   "metadata": {},
   "outputs": [],
   "source": [
    "# Write a function to compare vocabularies.\n",
    "def compare_vocab(labels, corpus, i, n, k, **kwargs):\n",
    "    target_corpus = corpus[labels == i]\n",
    "    target_vocab = __make_vocab(target_corpus, n, **kwargs)\n",
    "    target_vocab = __make_index(target_vocab, k)\n",
    "    target_vocab = set(target_vocab)\n",
    "    target_len = len(target_vocab)\n",
    "    # Report size of target vocabulary.\n",
    "    print('%25s: \\t%5d words' % (IDX_TO_LABEL[i], target_len))\n",
    "    # Compare to intersections of vocabulary with other categories.\n",
    "    for j in np.unique(labels):\n",
    "        # Skip self.\n",
    "        if j == i:\n",
    "            continue\n",
    "        # Get vocabulary for this other category.\n",
    "        other_corpus = corpus[labels == j]\n",
    "        other_vocab = __make_vocab(other_corpus, n, **kwargs)\n",
    "        other_vocab = __make_index(other_vocab, k)\n",
    "        other_vocab = set(other_vocab)\n",
    "        other_len = len(other_vocab)\n",
    "        # Count the number of words at the intersection.\n",
    "        intersn = len(target_vocab & other_vocab)\n",
    "        percent = intersn / target_len\n",
    "        # Report size of and intersection with other vocabulary.\n",
    "        print('%25s: \\t%5d words \\t%5d (%3.2f) shared' % (IDX_TO_LABEL[j], other_len, intersn, percent))\n",
    "    # Compare with all other categories together.\n",
    "    rest_corpus = corpus[labels != i]\n",
    "    rest_vocab = __make_vocab(rest_corpus, n, **kwargs)\n",
    "    rest_vocab = __make_index(rest_vocab, k)\n",
    "    rest_vocab = set(rest_vocab)\n",
    "    rest_len = len(rest_vocab)\n",
    "    # Count the number of words at the intersection.\n",
    "    intersn = len(target_vocab & rest_vocab)\n",
    "    percent = intersn / target_len\n",
    "    # Report size of and intersection with other vocabulary.\n",
    "    print('%25s: \\t%5d words \\t%5d (%3.2f) shared' % ('Corpus', rest_len, intersn, percent))"
   ]
  },
  {
   "cell_type": "markdown",
   "metadata": {},
   "source": [
    "### Vocabulary with captions"
   ]
  },
  {
   "cell_type": "code",
   "execution_count": 4,
   "metadata": {},
   "outputs": [],
   "source": [
    "# Read the video data with captions.\n",
    "data_w_captions = get_data(captions=True)\n",
    "# Get the labels and corpus.\n",
    "idx_labels, idx_corpus = get_column_indices(data_w_captions, col_labels, col_corpus)\n",
    "labels_w_captions, corpus_w_captions = get_labels_and_corpus(\n",
    "    data_w_captions, idx_labels, idx_corpus, silent=True)"
   ]
  },
  {
   "cell_type": "code",
   "execution_count": 5,
   "metadata": {},
   "outputs": [
    {
     "output_type": "execute_result",
     "data": {
      "text/plain": "                    index  category_id\n0           Entertainment         1149\n1           Howto & Style          515\n2                  Comedy          444\n3          People & Blogs          354\n4         News & Politics          302\n5    Science & Technology          300\n6                   Music          235\n7               Education          228\n8        Film & Animation          212\n9                  Sports          165\n10         Pets & Animals           67\n11                 Gaming           51\n12       Autos & Vehicles           37\n13        Travel & Events           34\n14  Nonprofits & Activism            9\n15                  Shows            4",
      "text/html": "<div>\n<style scoped>\n    .dataframe tbody tr th:only-of-type {\n        vertical-align: middle;\n    }\n\n    .dataframe tbody tr th {\n        vertical-align: top;\n    }\n\n    .dataframe thead th {\n        text-align: right;\n    }\n</style>\n<table border=\"1\" class=\"dataframe\">\n  <thead>\n    <tr style=\"text-align: right;\">\n      <th></th>\n      <th>index</th>\n      <th>category_id</th>\n    </tr>\n  </thead>\n  <tbody>\n    <tr>\n      <th>0</th>\n      <td>Entertainment</td>\n      <td>1149</td>\n    </tr>\n    <tr>\n      <th>1</th>\n      <td>Howto &amp; Style</td>\n      <td>515</td>\n    </tr>\n    <tr>\n      <th>2</th>\n      <td>Comedy</td>\n      <td>444</td>\n    </tr>\n    <tr>\n      <th>3</th>\n      <td>People &amp; Blogs</td>\n      <td>354</td>\n    </tr>\n    <tr>\n      <th>4</th>\n      <td>News &amp; Politics</td>\n      <td>302</td>\n    </tr>\n    <tr>\n      <th>5</th>\n      <td>Science &amp; Technology</td>\n      <td>300</td>\n    </tr>\n    <tr>\n      <th>6</th>\n      <td>Music</td>\n      <td>235</td>\n    </tr>\n    <tr>\n      <th>7</th>\n      <td>Education</td>\n      <td>228</td>\n    </tr>\n    <tr>\n      <th>8</th>\n      <td>Film &amp; Animation</td>\n      <td>212</td>\n    </tr>\n    <tr>\n      <th>9</th>\n      <td>Sports</td>\n      <td>165</td>\n    </tr>\n    <tr>\n      <th>10</th>\n      <td>Pets &amp; Animals</td>\n      <td>67</td>\n    </tr>\n    <tr>\n      <th>11</th>\n      <td>Gaming</td>\n      <td>51</td>\n    </tr>\n    <tr>\n      <th>12</th>\n      <td>Autos &amp; Vehicles</td>\n      <td>37</td>\n    </tr>\n    <tr>\n      <th>13</th>\n      <td>Travel &amp; Events</td>\n      <td>34</td>\n    </tr>\n    <tr>\n      <th>14</th>\n      <td>Nonprofits &amp; Activism</td>\n      <td>9</td>\n    </tr>\n    <tr>\n      <th>15</th>\n      <td>Shows</td>\n      <td>4</td>\n    </tr>\n  </tbody>\n</table>\n</div>"
     },
     "metadata": {},
     "execution_count": 5
    }
   ],
   "source": [
    "# Count the videos by category.\n",
    "data_w_captions['category_id'] \\\n",
    "    .value_counts() \\\n",
    "    .reset_index() \\\n",
    "    .replace({'index': IDX_TO_LABEL})"
   ]
  },
  {
   "cell_type": "code",
   "execution_count": 6,
   "metadata": {},
   "outputs": [
    {
     "output_type": "stream",
     "name": "stdout",
     "text": "Intersection of vocabularies with captions\n          News & Politics: \t22650 words\n         Film & Animation: \t18525 words \t 9028 (0.40) shared\n         Autos & Vehicles: \t 5363 words \t 3652 (0.16) shared\n                    Music: \t12385 words \t 6294 (0.28) shared\n           Pets & Animals: \t 6781 words \t 4265 (0.19) shared\n                   Sports: \t12707 words \t 6920 (0.31) shared\n          Travel & Events: \t 5786 words \t 3506 (0.15) shared\n                   Gaming: \t 8685 words \t 5371 (0.24) shared\n           People & Blogs: \t23392 words \t10175 (0.45) shared\n                   Comedy: \t20800 words \t 9219 (0.41) shared\n            Entertainment: \t25002 words \t11432 (0.50) shared\n            Howto & Style: \t25002 words \t 9869 (0.44) shared\n                Education: \t20491 words \t 9493 (0.42) shared\n     Science & Technology: \t21897 words \t 9745 (0.43) shared\n    Nonprofits & Activism: \t 3837 words \t 3045 (0.13) shared\n                    Shows: \t  950 words \t  744 (0.03) shared\n                   Corpus: \t25002 words \t11958 (0.53) shared\n"
    }
   ],
   "source": [
    "# Compare intersections of the vocabulary between the target and other categories.\n",
    "print('Intersection of vocabularies with captions')\n",
    "compare_vocab(labels_w_captions, corpus_w_captions, IDX_TARGET, NGRAMS, MAX_VOCAB, **DEFAULT_KWARGS)"
   ]
  },
  {
   "cell_type": "markdown",
   "metadata": {},
   "source": [
    "### Vocabulary without captions"
   ]
  },
  {
   "cell_type": "code",
   "execution_count": 7,
   "metadata": {},
   "outputs": [],
   "source": [
    "# Read the video data without captions.\n",
    "data_wo_captions = get_data(captions=False)\n",
    "# Get the labels and corpus.\n",
    "idx_labels, idx_corpus = get_column_indices(data_wo_captions, col_labels, col_corpus[:3])\n",
    "labels_wo_captions, corpus_wo_captions = get_labels_and_corpus(\n",
    "    data_wo_captions, idx_labels, idx_corpus, silent=True)"
   ]
  },
  {
   "cell_type": "code",
   "execution_count": 8,
   "metadata": {},
   "outputs": [
    {
     "output_type": "execute_result",
     "data": {
      "text/plain": "                    index  category_id\n0           Entertainment         1619\n1                   Music          799\n2           Howto & Style          595\n3                  Comedy          547\n4         News & Politics          505\n5          People & Blogs          498\n6                  Sports          451\n7    Science & Technology          380\n8        Film & Animation          318\n9               Education          250\n10         Pets & Animals          138\n11                 Gaming          103\n12       Autos & Vehicles           70\n13        Travel & Events           60\n14  Nonprofits & Activism           14\n15                  Shows            4",
      "text/html": "<div>\n<style scoped>\n    .dataframe tbody tr th:only-of-type {\n        vertical-align: middle;\n    }\n\n    .dataframe tbody tr th {\n        vertical-align: top;\n    }\n\n    .dataframe thead th {\n        text-align: right;\n    }\n</style>\n<table border=\"1\" class=\"dataframe\">\n  <thead>\n    <tr style=\"text-align: right;\">\n      <th></th>\n      <th>index</th>\n      <th>category_id</th>\n    </tr>\n  </thead>\n  <tbody>\n    <tr>\n      <th>0</th>\n      <td>Entertainment</td>\n      <td>1619</td>\n    </tr>\n    <tr>\n      <th>1</th>\n      <td>Music</td>\n      <td>799</td>\n    </tr>\n    <tr>\n      <th>2</th>\n      <td>Howto &amp; Style</td>\n      <td>595</td>\n    </tr>\n    <tr>\n      <th>3</th>\n      <td>Comedy</td>\n      <td>547</td>\n    </tr>\n    <tr>\n      <th>4</th>\n      <td>News &amp; Politics</td>\n      <td>505</td>\n    </tr>\n    <tr>\n      <th>5</th>\n      <td>People &amp; Blogs</td>\n      <td>498</td>\n    </tr>\n    <tr>\n      <th>6</th>\n      <td>Sports</td>\n      <td>451</td>\n    </tr>\n    <tr>\n      <th>7</th>\n      <td>Science &amp; Technology</td>\n      <td>380</td>\n    </tr>\n    <tr>\n      <th>8</th>\n      <td>Film &amp; Animation</td>\n      <td>318</td>\n    </tr>\n    <tr>\n      <th>9</th>\n      <td>Education</td>\n      <td>250</td>\n    </tr>\n    <tr>\n      <th>10</th>\n      <td>Pets &amp; Animals</td>\n      <td>138</td>\n    </tr>\n    <tr>\n      <th>11</th>\n      <td>Gaming</td>\n      <td>103</td>\n    </tr>\n    <tr>\n      <th>12</th>\n      <td>Autos &amp; Vehicles</td>\n      <td>70</td>\n    </tr>\n    <tr>\n      <th>13</th>\n      <td>Travel &amp; Events</td>\n      <td>60</td>\n    </tr>\n    <tr>\n      <th>14</th>\n      <td>Nonprofits &amp; Activism</td>\n      <td>14</td>\n    </tr>\n    <tr>\n      <th>15</th>\n      <td>Shows</td>\n      <td>4</td>\n    </tr>\n  </tbody>\n</table>\n</div>"
     },
     "metadata": {},
     "execution_count": 8
    }
   ],
   "source": [
    "# Count the videos by category.\n",
    "data_wo_captions['category_id'] \\\n",
    "    .value_counts() \\\n",
    "    .reset_index() \\\n",
    "    .replace({'index': IDX_TO_LABEL})"
   ]
  },
  {
   "cell_type": "code",
   "execution_count": 9,
   "metadata": {},
   "outputs": [
    {
     "output_type": "stream",
     "name": "stdout",
     "text": "Intersection of vocabularies without captions\n          News & Politics: \t 8278 words\n         Film & Animation: \t 8056 words \t 2636 (0.32) shared\n         Autos & Vehicles: \t 2246 words \t 1108 (0.13) shared\n                    Music: \t11270 words \t 2821 (0.34) shared\n           Pets & Animals: \t 3512 words \t 1540 (0.19) shared\n                   Sports: \t 5951 words \t 2253 (0.27) shared\n          Travel & Events: \t 2230 words \t 1080 (0.13) shared\n                   Gaming: \t 2528 words \t 1126 (0.14) shared\n           People & Blogs: \t10187 words \t 3135 (0.38) shared\n                   Comedy: \t 8517 words \t 2856 (0.35) shared\n            Entertainment: \t20509 words \t 4514 (0.55) shared\n            Howto & Style: \t12119 words \t 3054 (0.37) shared\n                Education: \t 7853 words \t 2574 (0.31) shared\n     Science & Technology: \t 8579 words \t 2856 (0.35) shared\n    Nonprofits & Activism: \t  908 words \t  514 (0.06) shared\n                    Shows: \t  221 words \t  129 (0.02) shared\n                   Corpus: \t25002 words \t 5139 (0.62) shared\n"
    }
   ],
   "source": [
    "# Compare intersections of the vocabulary between the target and other categories.\n",
    "print('Intersection of vocabularies without captions')\n",
    "compare_vocab(labels_wo_captions, corpus_wo_captions, IDX_TARGET, NGRAMS, MAX_VOCAB, **DEFAULT_KWARGS)"
   ]
  },
  {
   "cell_type": "code",
   "execution_count": null,
   "metadata": {},
   "outputs": [],
   "source": []
  }
 ],
 "metadata": {
  "kernelspec": {
   "display_name": "Python 3",
   "language": "python",
   "name": "python3"
  },
  "language_info": {
   "codemirror_mode": {
    "name": "ipython",
    "version": 3
   },
   "file_extension": ".py",
   "mimetype": "text/x-python",
   "name": "python",
   "nbconvert_exporter": "python",
   "pygments_lexer": "ipython3",
   "version": "3.7.4-final"
  }
 },
 "nbformat": 4,
 "nbformat_minor": 2
}