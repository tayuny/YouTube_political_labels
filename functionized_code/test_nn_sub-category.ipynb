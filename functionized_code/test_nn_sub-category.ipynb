{
 "cells": [
  {
   "cell_type": "markdown",
   "metadata": {},
   "source": [
    "### This notebook contains the following operations\n",
    "* Load the US Video data with Titles/Tags/Descriptions\n",
    "* Select the subset of the complete data using the given categories (with primary category: news and politics)\n",
    "* Create iterators for train, validation and test datasets\n",
    "* Run the analysis with neural network models (including RNN, CNN, and simple Linear NN)"
   ]
  },
  {
   "cell_type": "code",
   "execution_count": 28,
   "metadata": {},
   "outputs": [],
   "source": [
    "import data_input as data_in\n",
    "import nnmodels as nnm\n",
    "import mlmodels as mlm\n",
    "import bow_models as bowm\n",
    "import train_eval\n",
    "import visualization as vis\n",
    "from torchtext import data\n",
    "import torch\n",
    "import pandas as pd"
   ]
  },
  {
   "cell_type": "markdown",
   "metadata": {},
   "source": [
    "### Import Tags/Titles/Descriptions Data with the selected categories"
   ]
  },
  {
   "cell_type": "code",
   "execution_count": 50,
   "metadata": {},
   "outputs": [],
   "source": [
    "ori_data_dir = r'D:\\Researching Data\\Youtube data\\USvideos.csv' # should specify the directory for US video data\n",
    "sub_categories_id = [25, 24] # switching selected categories\n",
    "#sub_categories_id = [25, 22]\n",
    "#sub_categories_id = [25, 28]\n",
    "#sub_categories_id = [25, 1]\n",
    "\n",
    "prime_id = 25\n",
    "ori_data = pd.read_csv(ori_data_dir)\n",
    "new_data = ori_data[ori_data[\"category_id\"].isin(sub_categories_id)]\n",
    "new_data_dir = r'D:\\Researching Data\\Youtube data\\sub_categories\\sub_data.csv' # should specify the directory for the subset\n",
    "new_data.to_csv(new_data_dir)"
   ]
  },
  {
   "cell_type": "code",
   "execution_count": 51,
   "metadata": {},
   "outputs": [
    {
     "name": "stdout",
     "output_type": "stream",
     "text": [
      "61.23188405797102  percent of videos are labelled as the selected category\n",
      "the baseline precision is  61.23188405797102  in this model\n"
     ]
    }
   ],
   "source": [
    "new_TEXT, new_label, new_arr = data_in.load_data(new_data_dir, 25, \"full\")"
   ]
  },
  {
   "cell_type": "code",
   "execution_count": 52,
   "metadata": {},
   "outputs": [
    {
     "name": "stdout",
     "output_type": "stream",
     "text": [
      "The size of train, valid and test data are 331 331 166\n",
      "Number of training examples: 330\n",
      "Number of testing examples: 165\n",
      "Number of validation examples:330\n"
     ]
    }
   ],
   "source": [
    "path = r'D:\\Researching Data\\Youtube data\\sub_categories' # should specify the directory for the subset\n",
    "MAX_VOCAB_SIZE = 25000\n",
    "TRAIN_VALID_TEST_R = (0.4, 0.4, 0.2)\n",
    "BATCH_SIZE = 64\n",
    "\n",
    "torch.backends.cudnn.deterministic = True\n",
    "TEXT = data.Field(tokenize = 'spacy')\n",
    "LABEL = data.LabelField(dtype = torch.float)\n",
    "train_data, valid_data, test_data = data_in.build_train_test(path, new_arr, TRAIN_VALID_TEST_R, TEXT, LABEL)\n",
    "\n",
    "TEXT.build_vocab(train_data, max_size = MAX_VOCAB_SIZE)\n",
    "LABEL.build_vocab(train_data)\n",
    "device = torch.device('cpu')\n",
    "#device = torch.device('cuda' if torch.cuda.is_available() else 'cpu')\n",
    "train_iterator, valid_iterator, test_iterator = data_in.build_iterator(BATCH_SIZE, device, train_data, valid_data, test_data)"
   ]
  },
  {
   "cell_type": "code",
   "execution_count": 53,
   "metadata": {},
   "outputs": [],
   "source": [
    "INPUT_DIM = len(TEXT.vocab)\n",
    "EMBEDDING_DIM = 100\n",
    "HIDDEN_DIM = 50\n",
    "OUTPUT_DIM = 1\n",
    "N_LAYERS = 2\n",
    "BIDIRECTIONAL = True\n",
    "DROPOUT = 0.5\n",
    "N_FILTERS = 100\n",
    "FILTER_SIZES = [3,4,5]\n",
    "PAD_IDX = TEXT.vocab.stoi[TEXT.pad_token]\n",
    "\n",
    "model_wordem = nnm.WordEmbAvg_2linear(INPUT_DIM, EMBEDDING_DIM, \n",
    "                                      HIDDEN_DIM, OUTPUT_DIM, PAD_IDX)\n",
    "model_rnn = nnm.SimpleRNN(INPUT_DIM, EMBEDDING_DIM, HIDDEN_DIM, \n",
    "                          OUTPUT_DIM, PAD_IDX)\n",
    "model_BLSTM = nnm.LSTM(INPUT_DIM, EMBEDDING_DIM, HIDDEN_DIM, OUTPUT_DIM, \n",
    "                       N_LAYERS, BIDIRECTIONAL, DROPOUT, PAD_IDX)\n",
    "model_GRU = nnm.GRU(INPUT_DIM, EMBEDDING_DIM, HIDDEN_DIM, OUTPUT_DIM, \n",
    "                    N_LAYERS, BIDIRECTIONAL, DROPOUT, PAD_IDX)\n",
    "model_CNN = nnm.CNN(INPUT_DIM, EMBEDDING_DIM, N_FILTERS, FILTER_SIZES, \n",
    "                    OUTPUT_DIM, DROPOUT, PAD_IDX)\n",
    "MODEL_DICT = {\"avg_embedding\": model_wordem, \"SimpleRNN\": model_rnn,\n",
    "              \"BLSTM\": model_BLSTM, \"BGRU\": model_GRU, \"CNN\": model_CNN}"
   ]
  },
  {
   "cell_type": "markdown",
   "metadata": {},
   "source": [
    "### Run the Neural Network models with the data of the given pairs"
   ]
  },
  {
   "cell_type": "markdown",
   "metadata": {},
   "source": [
    "#### politics (25) vs entertainment (24)\n",
    "23.79% of videos are labelled as the selected category (politics)"
   ]
  },
  {
   "cell_type": "code",
   "execution_count": 39,
   "metadata": {},
   "outputs": [
    {
     "name": "stdout",
     "output_type": "stream",
     "text": [
      "currently training the model:  avg_embedding\n",
      "Epoch 0: Dev Accuracy: 0.8799894962991986 Dev Loss:0.6713152836476054\n",
      "Epoch 1: Dev Accuracy: 0.9042804624353137 Dev Loss:0.5997440655316625\n",
      "Epoch 2: Dev Accuracy: 0.875525210584913 Dev Loss:0.9372916306768145\n",
      "Epoch 3: Dev Accuracy: 0.8576680677277702 Dev Loss:1.058928749391011\n",
      "Epoch 4: Dev Accuracy: 0.8565519962991986 Dev Loss:1.0720378437212534\n",
      "Test Loss: 0.525 | Test Acc: 88.82%\n",
      "Test Prec: 69.814% | Test Rec: 96.203%\n",
      "currently training the model:  SimpleRNN\n",
      "Epoch 0: Dev Accuracy: 0.7792804624353137 Dev Loss:0.5343857066971915\n",
      "Epoch 1: Dev Accuracy: 0.7792804624353137 Dev Loss:0.5313312879630497\n",
      "Epoch 2: Dev Accuracy: 0.7792804624353137 Dev Loss:0.5373117050954274\n",
      "Epoch 3: Dev Accuracy: 0.7792804624353137 Dev Loss:0.5330587582928794\n",
      "Epoch 4: Dev Accuracy: 0.7792804624353137 Dev Loss:0.5375687118087497\n",
      "Test Loss: 0.552 | Test Acc: 75.97%\n",
      "Test Prec: nan% | Test Rec: 0.000%\n",
      "currently training the model:  BLSTM\n",
      "Epoch 0: Dev Accuracy: 0.8543198534420559 Dev Loss:0.5054591809000287\n",
      "Epoch 1: Dev Accuracy: 0.852087710584913 Dev Loss:0.48465181567839216\n",
      "Epoch 2: Dev Accuracy: 0.8465073534420559 Dev Loss:0.5964180486542838\n",
      "Epoch 3: Dev Accuracy: 0.8465073534420559 Dev Loss:0.6089361533522606\n",
      "Epoch 4: Dev Accuracy: 0.8688287820134845 Dev Loss:0.4837942634310041\n",
      "Test Loss: 0.683 | Test Acc: 86.26%\n",
      "Test Prec: 76.849% | Test Rec: 62.880%\n",
      "currently training the model:  BGRU\n",
      "Epoch 0: Dev Accuracy: 0.8618697481495994 Dev Loss:0.38962611449616297\n",
      "Epoch 1: Dev Accuracy: 0.8643644962991986 Dev Loss:0.4979837398443903\n",
      "Epoch 2: Dev Accuracy: 0.8788734248706273 Dev Loss:0.49105043336749077\n",
      "Epoch 3: Dev Accuracy: 0.8732930677277702 Dev Loss:0.4242339400308473\n",
      "Epoch 4: Dev Accuracy: 0.8565519962991986 Dev Loss:0.5450313570243972\n",
      "Test Loss: 0.486 | Test Acc: 86.48%\n",
      "Test Prec: 87.619% | Test Rec: 48.383%\n",
      "currently training the model:  CNN\n",
      "Epoch 0: Dev Accuracy: 0.8707983195781708 Dev Loss:0.5028484596737793\n",
      "Epoch 1: Dev Accuracy: 0.9109768910067422 Dev Loss:0.3444909549185208\n",
      "Epoch 2: Dev Accuracy: 0.8735556730202266 Dev Loss:0.6073151667203222\n",
      "Epoch 3: Dev Accuracy: 0.9464285714285714 Dev Loss:0.38766292616284254\n",
      "Epoch 4: Dev Accuracy: 0.9575892857142857 Dev Loss:0.3152749245153765\n",
      "Test Loss: 0.385 | Test Acc: 93.86%\n",
      "Test Prec: 87.438% | Test Rec: 85.650%\n",
      "most effective words:  ['jazz', 'G+', 'CEO', 'Guys', 'strip', 'UCLA', 'http://amzn.to/2cU7cNO\\\\n\\\\nCheck', 'serves', 'late', 'roundtable.\\\\n\\\\nWatch']\n",
      "less effective words:  ['<pad>', 'fuck', 'even', 'Destroys', 'spellbound', 'https://www.facebook.com/asianboss\\\\n\\\\nASIAN', 'facebook.com/AETV', '\\\\nCut', 'candidly', 'Joel']\n"
     ]
    }
   ],
   "source": [
    "best_models, models_perf = train_eval.compare_models(MODEL_DICT, device, train_iterator, valid_iterator, test_iterator, 5)\n",
    "train_eval.get_effective_norms(best_models, TEXT)"
   ]
  },
  {
   "cell_type": "markdown",
   "metadata": {},
   "source": [
    "#### politics (25) vs people & blogs (22)\n",
    "50.40% of videos are labelled as the selected category (politics)"
   ]
  },
  {
   "cell_type": "code",
   "execution_count": 44,
   "metadata": {},
   "outputs": [
    {
     "name": "stdout",
     "output_type": "stream",
     "text": [
      "currently training the model:  avg_embedding\n",
      "Epoch 0: Dev Accuracy: 0.8125 Dev Loss:0.6217183300427028\n",
      "Epoch 1: Dev Accuracy: 0.8549107142857143 Dev Loss:0.43280339666775297\n",
      "Epoch 2: Dev Accuracy: 0.8861607142857143 Dev Loss:0.30445895344018936\n",
      "Epoch 3: Dev Accuracy: 0.8861607142857143 Dev Loss:0.3391383034842355\n",
      "Epoch 4: Dev Accuracy: 0.9040178571428571 Dev Loss:0.29253519432885305\n",
      "Test Loss: 0.270 | Test Acc: 88.98%\n",
      "Test Prec: 85.960% | Test Rec: 92.567%\n",
      "currently training the model:  SimpleRNN\n",
      "Epoch 0: Dev Accuracy: 0.4642857142857143 Dev Loss:0.6976036940302167\n",
      "Epoch 1: Dev Accuracy: 0.5602678571428571 Dev Loss:0.6940380420003619\n",
      "Epoch 2: Dev Accuracy: 0.5178571428571429 Dev Loss:0.6979015469551086\n",
      "Epoch 3: Dev Accuracy: 0.49107142857142855 Dev Loss:0.7072133677346366\n",
      "Epoch 4: Dev Accuracy: 0.49107142857142855 Dev Loss:0.7273320640836444\n",
      "Test Loss: 0.750 | Test Acc: 44.36%\n",
      "Test Prec: 40.509% | Test Rec: 37.297%\n",
      "currently training the model:  BLSTM\n",
      "Epoch 0: Dev Accuracy: 0.4955357142857143 Dev Loss:0.6932967475482396\n",
      "Epoch 1: Dev Accuracy: 0.5848214285714286 Dev Loss:0.6666403072220939\n",
      "Epoch 2: Dev Accuracy: 0.6339285714285714 Dev Loss:0.6852353428091321\n",
      "Epoch 3: Dev Accuracy: 0.6495535714285714 Dev Loss:0.7425978694643293\n",
      "Epoch 4: Dev Accuracy: 0.6629464285714286 Dev Loss:0.9286475862775531\n",
      "Test Loss: 0.563 | Test Acc: 76.91%\n",
      "Test Prec: 78.957% | Test Rec: 74.620%\n",
      "currently training the model:  BGRU\n",
      "Epoch 0: Dev Accuracy: 0.5245535714285714 Dev Loss:0.7207244294030326\n",
      "Epoch 1: Dev Accuracy: 0.5647321428571429 Dev Loss:0.6976846201079232\n",
      "Epoch 2: Dev Accuracy: 0.5535714285714286 Dev Loss:0.8276955996240888\n",
      "Epoch 3: Dev Accuracy: 0.6160714285714286 Dev Loss:0.7492645893778119\n",
      "Epoch 4: Dev Accuracy: 0.7254464285714286 Dev Loss:0.7992808903966632\n",
      "Test Loss: 0.747 | Test Acc: 73.35%\n",
      "Test Prec: 80.435% | Test Rec: 63.176%\n",
      "currently training the model:  CNN\n",
      "Epoch 0: Dev Accuracy: 0.5535714285714286 Dev Loss:1.3608436925070626\n",
      "Epoch 1: Dev Accuracy: 0.6071428571428571 Dev Loss:1.4604095816612244\n",
      "Epoch 2: Dev Accuracy: 0.6919642857142857 Dev Loss:1.2250517691884721\n",
      "Epoch 3: Dev Accuracy: 0.7477678571428571 Dev Loss:0.8443263343402317\n",
      "Epoch 4: Dev Accuracy: 0.7857142857142857 Dev Loss:0.9787014552525112\n",
      "Test Loss: 0.711 | Test Acc: 81.21%\n",
      "Test Prec: 95.445% | Test Rec: 61.130%\n",
      "most effective words:  ['Loves', 'Phil', 'points', 'opened', 'Talk', '1', 'backbenchers', 'TRIP', 'crashed', 'discussion']\n",
      "less effective words:  ['<pad>', 'Refinery29', 'dries', 'oscar', 'changing', 'rich', '\\\\nemail', '45th', 'San', 'washington']\n"
     ]
    }
   ],
   "source": [
    "best_models, models_perf = train_eval.compare_models(MODEL_DICT, device, train_iterator, valid_iterator, test_iterator, 5)\n",
    "train_eval.get_effective_norms(best_models, TEXT)"
   ]
  },
  {
   "cell_type": "markdown",
   "metadata": {},
   "source": [
    "#### politics (25) vs science & technologies (28)\n",
    "57.10% of videos are labelled as the selected category (politics)"
   ]
  },
  {
   "cell_type": "code",
   "execution_count": 49,
   "metadata": {},
   "outputs": [
    {
     "name": "stdout",
     "output_type": "stream",
     "text": [
      "currently training the model:  avg_embedding\n",
      "Epoch 0: Dev Accuracy: 0.6135110308726629 Dev Loss:0.6524952252705892\n",
      "Epoch 1: Dev Accuracy: 0.7864583333333334 Dev Loss:0.514727920293808\n",
      "Epoch 2: Dev Accuracy: 0.9077818592389425 Dev Loss:0.30390355984369916\n",
      "Epoch 3: Dev Accuracy: 0.907169113556544 Dev Loss:0.24439624200264612\n",
      "Epoch 4: Dev Accuracy: 0.9175857802232107 Dev Loss:0.23426234101255736\n",
      "Test Loss: 0.233 | Test Acc: 92.59%\n",
      "Test Prec: 84.007% | Test Rec: 100.000%\n",
      "currently training the model:  SimpleRNN\n",
      "Epoch 0: Dev Accuracy: 0.5441176493962606 Dev Loss:0.6894890467325846\n",
      "Epoch 1: Dev Accuracy: 0.5467218160629272 Dev Loss:0.689419706662496\n",
      "Epoch 2: Dev Accuracy: 0.5493259827295939 Dev Loss:0.6912829180558523\n",
      "Epoch 3: Dev Accuracy: 0.553768386443456 Dev Loss:0.7007514735062917\n",
      "Epoch 4: Dev Accuracy: 0.563725491364797 Dev Loss:0.6868770023187002\n",
      "Test Loss: 0.672 | Test Acc: 59.95%\n",
      "Test Prec: 53.830% | Test Rec: 21.632%\n",
      "currently training the model:  BLSTM\n",
      "Epoch 0: Dev Accuracy: 0.5548406864205996 Dev Loss:0.6873500049114227\n",
      "Epoch 1: Dev Accuracy: 0.5900735308726629 Dev Loss:0.6853527824083964\n",
      "Epoch 2: Dev Accuracy: 0.5940563728411993 Dev Loss:0.6581559578577677\n",
      "Epoch 3: Dev Accuracy: 0.694393386443456 Dev Loss:0.6123384833335876\n",
      "Epoch 4: Dev Accuracy: 0.6871936321258545 Dev Loss:0.6655825873215994\n",
      "Test Loss: 0.596 | Test Acc: 73.45%\n",
      "Test Prec: 68.056% | Test Rec: 65.229%\n",
      "currently training the model:  BGRU\n",
      "Epoch 0: Dev Accuracy: 0.554227943221728 Dev Loss:0.6968628366788229\n",
      "Epoch 1: Dev Accuracy: 0.6171875 Dev Loss:0.6611753304799398\n",
      "Epoch 2: Dev Accuracy: 0.6197916666666666 Dev Loss:0.7395458519458771\n",
      "Epoch 3: Dev Accuracy: 0.6331188728411993 Dev Loss:1.0719408293565114\n",
      "Epoch 4: Dev Accuracy: 0.6637561321258545 Dev Loss:0.9366154372692108\n",
      "Test Loss: 1.028 | Test Acc: 66.00%\n",
      "Test Prec: 61.282% | Test Rec: 45.354%\n",
      "currently training the model:  CNN\n",
      "Epoch 0: Dev Accuracy: 0.5516237715880076 Dev Loss:0.9078425566355387\n",
      "Epoch 1: Dev Accuracy: 0.7703737715880076 Dev Loss:0.49852147698402405\n",
      "Epoch 2: Dev Accuracy: 0.7204350531101227 Dev Loss:0.633979802330335\n",
      "Epoch 3: Dev Accuracy: 0.8033088246981303 Dev Loss:0.4396245727936427\n",
      "Epoch 4: Dev Accuracy: 0.8181678950786591 Dev Loss:0.4361949289838473\n",
      "Test Loss: 0.371 | Test Acc: 84.10%\n",
      "Test Prec: 79.940% | Test Rec: 84.639%\n",
      "most effective words:  ['busy', 'planning', 'https://www.instagram.com/tech_insider/', 'Hegseth', 'Warning', 'checkout', 'intense', 'message.\\\\n\\\\nIf', 'http://video.foxnews.com/playlist/longform-special-report/\\\\nThe', 'Barone']\n",
      "less effective words:  ['<pad>', 'uv', '👇', 'with', 'elements', '💖', 'Cosson', 'OPEN', 'Vertical', 'ui']\n"
     ]
    }
   ],
   "source": [
    "best_models, models_perf = train_eval.compare_models(MODEL_DICT, device, train_iterator, valid_iterator, test_iterator, 5)\n",
    "train_eval.get_effective_norms(best_models, TEXT)"
   ]
  },
  {
   "cell_type": "markdown",
   "metadata": {},
   "source": [
    "#### politics (25) vs film & animation (1)\n",
    "61.23% of videos are labelled as the selected category (politics)"
   ]
  },
  {
   "cell_type": "code",
   "execution_count": 54,
   "metadata": {},
   "outputs": [
    {
     "name": "stdout",
     "output_type": "stream",
     "text": [
      "currently training the model:  avg_embedding\n",
      "Epoch 0: Dev Accuracy: 0.6510416666666666 Dev Loss:0.6208838224411011\n",
      "Epoch 1: Dev Accuracy: 0.8390625019868215 Dev Loss:0.5024471034606298\n",
      "Epoch 2: Dev Accuracy: 0.8052083353201548 Dev Loss:0.4195164442062378\n",
      "Epoch 3: Dev Accuracy: 0.7807291646798452 Dev Loss:0.5098017056783041\n",
      "Epoch 4: Dev Accuracy: 0.7677083313465118 Dev Loss:0.8191860119501749\n",
      "Test Loss: 0.531 | Test Acc: 84.42%\n",
      "Test Prec: 77.101% | Test Rec: 87.871%\n",
      "currently training the model:  SimpleRNN\n",
      "Epoch 0: Dev Accuracy: 0.5796875009934107 Dev Loss:0.681547224521637\n",
      "Epoch 1: Dev Accuracy: 0.5416666666666666 Dev Loss:0.673817773660024\n",
      "Epoch 2: Dev Accuracy: 0.5817708373069763 Dev Loss:0.6792107025782267\n",
      "Epoch 3: Dev Accuracy: 0.5885416666666666 Dev Loss:0.6968029538790385\n",
      "Epoch 4: Dev Accuracy: 0.59375 Dev Loss:0.6667316953341166\n",
      "Test Loss: 0.693 | Test Acc: 61.63%\n",
      "Test Prec: nan% | Test Rec: 1.333%\n",
      "currently training the model:  BLSTM\n",
      "Epoch 0: Dev Accuracy: 0.6364583373069763 Dev Loss:0.6726695199807485\n",
      "Epoch 1: Dev Accuracy: 0.6343750009934107 Dev Loss:0.6236880719661713\n",
      "Epoch 2: Dev Accuracy: 0.6510416666666666 Dev Loss:0.7484049598375956\n",
      "Epoch 3: Dev Accuracy: 0.6604166676600774 Dev Loss:0.8219703038533529\n",
      "Epoch 4: Dev Accuracy: 0.6822916666666666 Dev Loss:0.9020438094933828\n",
      "Test Loss: 0.892 | Test Acc: 70.30%\n",
      "Test Prec: 57.726% | Test Rec: 84.076%\n",
      "currently training the model:  BGRU\n",
      "Epoch 0: Dev Accuracy: 0.6583333313465118 Dev Loss:0.6416571040948232\n",
      "Epoch 1: Dev Accuracy: 0.7338541646798452 Dev Loss:0.601400762796402\n",
      "Epoch 2: Dev Accuracy: 0.7380208373069763 Dev Loss:0.786481648683548\n",
      "Epoch 3: Dev Accuracy: 0.734375 Dev Loss:0.7842235863208771\n",
      "Epoch 4: Dev Accuracy: 0.7125000009934107 Dev Loss:0.995433380206426\n",
      "Test Loss: 0.734 | Test Acc: 73.80%\n",
      "Test Prec: 82.024% | Test Rec: 41.371%\n",
      "currently training the model:  CNN\n",
      "Epoch 0: Dev Accuracy: 0.7229166626930237 Dev Loss:0.5855828076601028\n",
      "Epoch 1: Dev Accuracy: 0.7348958353201548 Dev Loss:0.6906307339668274\n",
      "Epoch 2: Dev Accuracy: 0.8104166686534882 Dev Loss:0.49616991480191547\n",
      "Epoch 3: Dev Accuracy: 0.7937499980131785 Dev Loss:0.4676012098789215\n",
      "Epoch 4: Dev Accuracy: 0.8364583353201548 Dev Loss:0.40923619270324707\n",
      "Test Loss: 0.361 | Test Acc: 87.78%\n",
      "Test Prec: 88.437% | Test Rec: 77.227%\n",
      "most effective words:  ['breasts', '모습입니다.\\\\n\\\\n다음', 'Amazon.com', 'Lyrics:\\\\n\\\\nThis', 'applications', '15', 'length', 'www.13ReasonsWhy.infoIf', 'jokes', 'square']\n",
      "less effective words:  ['<pad>', 'Carmichael', 'sacking', 'bloc', 'Taylor\\\\nStory', 'TUNCAY', 'battlefield', 'Wipe', 'dustin', 'CHARLOTTE']\n"
     ]
    }
   ],
   "source": [
    "best_models, models_perf = train_eval.compare_models(MODEL_DICT, device, train_iterator, valid_iterator, test_iterator, 5)\n",
    "train_eval.get_effective_norms(best_models, TEXT)"
   ]
  },
  {
   "cell_type": "code",
   "execution_count": null,
   "metadata": {},
   "outputs": [],
   "source": []
  }
 ],
 "metadata": {
  "kernelspec": {
   "display_name": "Python [conda env:py36_main] *",
   "language": "python",
   "name": "conda-env-py36_main-py"
  },
  "language_info": {
   "codemirror_mode": {
    "name": "ipython",
    "version": 3
   },
   "file_extension": ".py",
   "mimetype": "text/x-python",
   "name": "python",
   "nbconvert_exporter": "python",
   "pygments_lexer": "ipython3",
   "version": "3.6.9"
  }
 },
 "nbformat": 4,
 "nbformat_minor": 2
}
