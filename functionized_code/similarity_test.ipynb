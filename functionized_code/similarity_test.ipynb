{
 "cells": [
  {
   "cell_type": "markdown",
   "metadata": {},
   "source": [
    "### This notebook contains the following operations\n",
    "* Cosine Similarities using caption data (political category as the reference)\n",
    "* Cosine Similarities using titles/Tags/Descriptions (political category as the reference)\n",
    "* Bottom-up Clustering (based on cosine similarities of political category)\n",
    "* Top 100 words with the highest TFIDF (Using all the text in a category as a single document)"
   ]
  },
  {
   "cell_type": "code",
   "execution_count": 1,
   "metadata": {},
   "outputs": [],
   "source": [
    "import data_input as data_in\n",
    "from torchtext import data\n",
    "import torch.nn as nn\n",
    "import torch\n",
    "import numpy as np\n",
    "import pandas as pd\n",
    "import csv\n",
    "import tokenization_dim_reduction as tdr\n",
    "import json\n",
    "import sklearn.feature_extraction.text as FE\n",
    "import cosine_similarity as cs"
   ]
  },
  {
   "cell_type": "markdown",
   "metadata": {},
   "source": [
    "### Cosine Similarities Using BOW and TFIDF (with captions data only)"
   ]
  },
  {
   "cell_type": "code",
   "execution_count": 2,
   "metadata": {},
   "outputs": [],
   "source": [
    "data_dir = r'D:\\Researching Data\\Youtube data\\caption_sector\\transcripts.txt' # should specify the directory for captions data\n",
    "f_dir = r'D:\\Researching Data\\Youtube data\\USvideos.csv' # should specify the directory for US video data\n",
    "path = r'D:\\Researching Data\\Youtube data\\caption_sector' # should specify the path to captions data\n",
    "dic_dir = r'D:\\Researching Data\\Youtube data\\US_category_id.json' # should specify the directory for category dictionary\n",
    "new_pd = data_in.import_captions(data_dir, f_dir)"
   ]
  },
  {
   "cell_type": "markdown",
   "metadata": {},
   "source": [
    "#### Keep 5000 words with highest average TFIDF"
   ]
  },
  {
   "cell_type": "code",
   "execution_count": 3,
   "metadata": {},
   "outputs": [],
   "source": [
    "cos = nn.CosineSimilarity(dim=0)\n",
    "cat_dict, cat_size, similarities = cs.similarity_bow(dic_dir, new_pd, cos, 25, 5000)\n",
    "tfidf_similarities = cs.similarity_tfidf(cat_dict, cat_size, new_pd, cos, 25, (1,5000))"
   ]
  },
  {
   "cell_type": "code",
   "execution_count": 4,
   "metadata": {},
   "outputs": [
    {
     "name": "stdout",
     "output_type": "stream",
     "text": [
      "('Film & Animation', 0.9234253018578943)\n",
      "('Autos & Vehicles', 0.8596320332841434)\n",
      "('Music', 0.805913052784863)\n",
      "('Pets & Animals', 0.8535342113621643)\n",
      "('Sports', 0.8917769266441121)\n",
      "('Travel & Events', 0.8395866581830274)\n",
      "('Gaming', 0.8933234372714954)\n",
      "('People & Blogs', 0.9120624030160931)\n",
      "('Entertainment', 0.9051104056612778)\n",
      "('News & Politics', 1.0)\n",
      "('Howto & Style', 0.8683970472377324)\n",
      "('Education', 0.942261301087541)\n",
      "('Science & Technology', 0.9155296280589654)\n",
      "('Nonprofits & Activism', 0.9073148039840575)\n",
      "('Shows', 0.6845312364989041)\n"
     ]
    }
   ],
   "source": [
    "for key, v in tfidf_similarities.items():\n",
    "    if v != 0:\n",
    "        print((key, v))"
   ]
  },
  {
   "cell_type": "markdown",
   "metadata": {},
   "source": [
    "#### Keep 200th to 5000th words with highest average TFIDF"
   ]
  },
  {
   "cell_type": "code",
   "execution_count": 5,
   "metadata": {},
   "outputs": [],
   "source": [
    "tfidf_similarities200 = cs.similarity_tfidf(cat_dict, cat_size, new_pd, cos, 25, (200,5000))"
   ]
  },
  {
   "cell_type": "code",
   "execution_count": 6,
   "metadata": {},
   "outputs": [
    {
     "name": "stdout",
     "output_type": "stream",
     "text": [
      "('Film & Animation', 0.6294881350645263)\n",
      "('Autos & Vehicles', 0.35779364993058804)\n",
      "('Music', 0.4612295281677221)\n",
      "('Pets & Animals', 0.3794832124254326)\n",
      "('Sports', 0.49052620607731984)\n",
      "('Travel & Events', 0.34756632241114227)\n",
      "('Gaming', 0.46449314411059356)\n",
      "('People & Blogs', 0.6537143412613922)\n",
      "('Entertainment', 0.6764452210997878)\n",
      "('News & Politics', 1.0)\n",
      "('Howto & Style', 0.469008127524843)\n",
      "('Education', 0.6358827292804715)\n",
      "('Science & Technology', 0.5691234152760964)\n",
      "('Nonprofits & Activism', 0.4850951616051855)\n",
      "('Shows', 0.20272080135732284)\n"
     ]
    }
   ],
   "source": [
    "for key, v in tfidf_similarities200.items():\n",
    "    if v != 0:\n",
    "        print((key, v))"
   ]
  },
  {
   "cell_type": "markdown",
   "metadata": {},
   "source": [
    "### Cosine Similarities Using BOW and TFIDF (with titles/tags/descriptions data)"
   ]
  },
  {
   "cell_type": "code",
   "execution_count": 7,
   "metadata": {},
   "outputs": [],
   "source": [
    "data_dir = r'D:\\Researching Data\\Youtube data\\USvideos.csv' # should specify the directory for US video data\n",
    "f_set = data_in.FEATURE_GROUPS[\"full\"]\n",
    "_, dtext, dlabel = tdr.select_col(data_dir, f_set[0])\n",
    "new_TEXT = tdr.combine_text(dtext, f_set[1], f_set[2])\n",
    "new_pd = pd.DataFrame(np.concatenate([new_TEXT.reshape(len(dlabel), 1), dlabel.reshape(len(dlabel), 1)], axis=1), \n",
    "                      columns=[\"text\", \"category_id\"])"
   ]
  },
  {
   "cell_type": "markdown",
   "metadata": {},
   "source": [
    "#### Keep 5000 words with highest average TFIDF"
   ]
  },
  {
   "cell_type": "code",
   "execution_count": 8,
   "metadata": {},
   "outputs": [],
   "source": [
    "cos = nn.CosineSimilarity(dim=0)\n",
    "cat_dict, cat_size, similarities = cs.similarity_bow(dic_dir, new_pd, cos, 25, 5000)\n",
    "tfidf_similarities = cs.similarity_tfidf(cat_dict, cat_size, new_pd, cos, 25, (1,5000))"
   ]
  },
  {
   "cell_type": "code",
   "execution_count": 9,
   "metadata": {},
   "outputs": [
    {
     "name": "stdout",
     "output_type": "stream",
     "text": [
      "('Film & Animation', 0.512862920625565)\n",
      "('Autos & Vehicles', 0.46232427289474015)\n",
      "('Music', 0.42666892963291714)\n",
      "('Pets & Animals', 0.39380803210259435)\n",
      "('Sports', 0.3934525414099961)\n",
      "('Travel & Events', 0.4675199117742903)\n",
      "('Gaming', 0.3684639278611043)\n",
      "('People & Blogs', 0.5503564019532635)\n",
      "('Entertainment', 0.622015614923866)\n",
      "('News & Politics', 1.0)\n",
      "('Howto & Style', 0.4676337916685023)\n",
      "('Education', 0.512298456462439)\n",
      "('Science & Technology', 0.5486932782662686)\n",
      "('Nonprofits & Activism', 0.42036971767562775)\n",
      "('Shows', 0.19088822157667848)\n"
     ]
    }
   ],
   "source": [
    "for key, v in tfidf_similarities.items():\n",
    "    if v != 0:\n",
    "        print((key, v))"
   ]
  },
  {
   "cell_type": "markdown",
   "metadata": {},
   "source": [
    "#### Keep 200th to 5000th words with highest average TFIDF"
   ]
  },
  {
   "cell_type": "code",
   "execution_count": 10,
   "metadata": {},
   "outputs": [],
   "source": [
    "tfidf_similarities200 = cs.similarity_tfidf(cat_dict, cat_size, new_pd, cos, 25, (200,5000))"
   ]
  },
  {
   "cell_type": "code",
   "execution_count": 11,
   "metadata": {},
   "outputs": [
    {
     "name": "stdout",
     "output_type": "stream",
     "text": [
      "('Film & Animation', 0.21705513150498237)\n",
      "('Autos & Vehicles', 0.15813954243273223)\n",
      "('Music', 0.16853987657741312)\n",
      "('Pets & Animals', 0.14948760178409445)\n",
      "('Sports', 0.1899150826889674)\n",
      "('Travel & Events', 0.18086203773634008)\n",
      "('Gaming', 0.08817142464370153)\n",
      "('People & Blogs', 0.2639444399785001)\n",
      "('Entertainment', 0.3503764220440238)\n",
      "('News & Politics', 1.0)\n",
      "('Howto & Style', 0.18807561251352187)\n",
      "('Education', 0.23143236289352687)\n",
      "('Science & Technology', 0.25835242483072896)\n",
      "('Nonprofits & Activism', 0.18685896529477283)\n",
      "('Shows', 0.07535072911685735)\n"
     ]
    }
   ],
   "source": [
    "for key, v in tfidf_similarities200.items():\n",
    "    if v != 0:\n",
    "        print((key, v))"
   ]
  },
  {
   "cell_type": "markdown",
   "metadata": {},
   "source": [
    "### Bottom-Up Clustering (with titles/tags/descriptions data)"
   ]
  },
  {
   "cell_type": "code",
   "execution_count": 12,
   "metadata": {},
   "outputs": [],
   "source": [
    "TFIDF_RANGE = (1, 5000)\n",
    "POL_ID = 25"
   ]
  },
  {
   "cell_type": "code",
   "execution_count": 13,
   "metadata": {},
   "outputs": [],
   "source": [
    "pol_node = cs.bottom_up(cat_dict, cat_size, new_pd, TFIDF_RANGE)"
   ]
  },
  {
   "cell_type": "code",
   "execution_count": 14,
   "metadata": {},
   "outputs": [
    {
     "name": "stdout",
     "output_type": "stream",
     "text": [
      "category index in the group:\n",
      "[25, 24, 22, 1, 28, 26, 27, 10, 19, 2, 20, 15, 29, 17]\n",
      "cosine similarity of (quasi) Politics group v.s new category ( Shows ):\n",
      "0.27486730359495337\n",
      " \n",
      "category index in the group:\n",
      "[25, 24, 22, 1, 28, 26, 27, 10, 19, 2, 20, 15, 29]\n",
      "cosine similarity of (quasi) Politics group v.s new category ( Sports ):\n",
      "0.4877946815956316\n",
      " \n",
      "category index in the group:\n",
      "[25, 24, 22, 1, 28, 26, 27, 10, 19, 2, 20, 15]\n",
      "cosine similarity of (quasi) Politics group v.s new category ( Nonprofits & Activism ):\n",
      "0.49198099068944484\n",
      " \n",
      "category index in the group:\n",
      "[25, 24, 22, 1, 28, 26, 27, 10, 19, 2, 20]\n",
      "cosine similarity of (quasi) Politics group v.s new category ( Pets & Animals ):\n",
      "0.5298349633592451\n",
      " \n",
      "category index in the group:\n",
      "[25, 24, 22, 1, 28, 26, 27, 10, 19, 2]\n",
      "cosine similarity of (quasi) Politics group v.s new category ( Gaming ):\n",
      "0.5336692613005063\n",
      " \n",
      "category index in the group:\n",
      "[25, 24, 22, 1, 28, 26, 27, 10, 19]\n",
      "cosine similarity of (quasi) Politics group v.s new category ( Autos & Vehicles ):\n",
      "0.6016616833008543\n",
      " \n",
      "category index in the group:\n",
      "[25, 24, 22, 1, 28, 26, 27, 10]\n",
      "cosine similarity of (quasi) Politics group v.s new category ( Travel & Events ):\n",
      "0.6265134641149297\n",
      " \n",
      "category index in the group:\n",
      "[25, 24, 22, 1, 28, 26, 27]\n",
      "cosine similarity of (quasi) Politics group v.s new category ( Music ):\n",
      "0.6419423900803088\n",
      " \n",
      "category index in the group:\n",
      "[25, 24, 22, 1, 28, 26]\n",
      "cosine similarity of (quasi) Politics group v.s new category ( Education ):\n",
      "0.7108330085058351\n",
      " \n",
      "category index in the group:\n",
      "[25, 24, 22, 1, 28]\n",
      "cosine similarity of (quasi) Politics group v.s new category ( Howto & Style ):\n",
      "0.7108949066867168\n",
      " \n",
      "category index in the group:\n",
      "[25, 24, 22, 1]\n",
      "cosine similarity of (quasi) Politics group v.s new category ( Science & Technology ):\n",
      "0.7132532759970631\n",
      " \n",
      "category index in the group:\n",
      "[25, 24, 22]\n",
      "cosine similarity of (quasi) Politics group v.s new category ( Film & Animation ):\n",
      "0.7235146789429491\n",
      " \n",
      "category index in the group:\n",
      "[25, 24]\n",
      "cosine similarity of (quasi) Politics group v.s new category ( People & Blogs ):\n",
      "0.736023206399248\n",
      " \n",
      "category index in the group:\n",
      "[25]\n",
      "cosine similarity of (quasi) Politics group v.s new category ( Entertainment ):\n",
      "0.622015614923866\n",
      " \n"
     ]
    }
   ],
   "source": [
    "current_node = pol_node\n",
    "while current_node.childrens != []:\n",
    "    print(\"category index in the group:\")\n",
    "    print(current_node.childrens[0].categories)\n",
    "    print(\"cosine similarity of (quasi) Politics group v.s new category (\", current_node.childrens[1].name ,\"):\")\n",
    "    print(current_node.childrens[0].best_similarity)\n",
    "    print(\" \")\n",
    "    current_node = current_node.childrens[0]"
   ]
  },
  {
   "cell_type": "markdown",
   "metadata": {},
   "source": [
    "### Top 100 words with the highest TFIDF (all documents in each categories are merged into single document)\n",
    "#### The new TFIDF has size (number of categories) * (number of unique words)"
   ]
  },
  {
   "cell_type": "code",
   "execution_count": 2,
   "metadata": {},
   "outputs": [],
   "source": [
    "data_dir = r'D:\\Researching Data\\Youtube data\\USvideos.csv' # should specify the directory for US video data\n",
    "f_set = data_in.FEATURE_GROUPS[\"full\"]\n",
    "_, dtext, dlabel = tdr.select_col(data_dir, f_set[0])\n",
    "new_TEXT = tdr.combine_text(dtext, f_set[1], f_set[2])\n",
    "new_pd = pd.DataFrame(np.concatenate([new_TEXT.reshape(len(dlabel), 1), dlabel.reshape(len(dlabel), 1)], axis=1), \n",
    "                      columns=[\"text\", \"category_id\"])"
   ]
  },
  {
   "cell_type": "code",
   "execution_count": 3,
   "metadata": {},
   "outputs": [],
   "source": [
    "topk_dict = cs.get_topk_words(new_pd, 100)"
   ]
  },
  {
   "cell_type": "code",
   "execution_count": 4,
   "metadata": {},
   "outputs": [
    {
     "data": {
      "text/plain": [
       "{22: array(['week', 'asis', 'carlin', 'motion', 'ncredits', 'use', 'camera',\n",
       "        'great', 'corden', 'nbuzzfeed', 'hair', 'best', 'provided', 'time',\n",
       "        'nbuzzfeedvideo', 'nget', 'nwatch', 'beauty', 'nsnapchat', 'style',\n",
       "        'ijustine', 'family', 'doctor', 'bee', 'riverdale', 'box',\n",
       "        'nstills', 'awesome', 'nthe', 'nfacebook', 'greatbigstory', 'vs',\n",
       "        'grace', 'christmas', 'list', 'ytbuzzfeedblue1', 'ytbuzzfeedvideo',\n",
       "        'ytbuzzfeedviolet', 'foxs', 'tumblr', 'connorfranta', 'life',\n",
       "        'nvia', 'frontal', 'story', 'audio', 'shareable', 'vlog', 'curid',\n",
       "        '2017', 'cbs', '2018', 'world', 'madelaine', 'nmusic', 'vlogs',\n",
       "        'nmy', 'nerdfighteria', 'like', 'boldly', 'nsfx', 'love', 'make',\n",
       "        'buzzfeedviolet', 'daily', 'ninstagram', 'nextbeat', 'food',\n",
       "        'perolike', 'helbig', 'try', 'late', 'refinery29', 'day',\n",
       "        'ntwitter', 'gracehelbig', 'funny', 'ladylike', 'bfmp',\n",
       "        'buzzfeedblue', 'fashion', 'makeup', 'nhttp', 'channel',\n",
       "        'production', 'amzn', 'goo', 'gl', 'safiya', 'video',\n",
       "        'audioblocks', 'buzzfeedvideo', 'warner', 'nlicensed', 'videos',\n",
       "        'chappell', 'images', 'nhttps', 'getty', 'buzzfeed'], dtype='<U69'),\n",
       " 24: array(['collider', 'nnbc', 'amzn', '10', 'nabout', 'complex', 'st',\n",
       "        'makeup', 'anytime', 'jennifer', 'bravotv', 'interview', 'smith',\n",
       "        'kids', 'time', 'marvel', 'rhettandlink', 'like', 'po', 'nthe',\n",
       "        'rhett', '2017', 'idol', 'website', 'film', 'hellthyjunkfood',\n",
       "        'box', 'fine', 'john', 'best', 'shows', 'comedian', 'nail',\n",
       "        'vanity', 'love', 'challenge', 'kardashian', 'online', 'stephen',\n",
       "        'degeneres', 'day', 'nfacebook', 'nbcsnl', 'gmm', 'jedi',\n",
       "        'ninstagram', 'original', 'ntwitter', 'celebrities', 'black',\n",
       "        'television', 'hollywood', 'episode', 'movies', 'talk', 'wwhl',\n",
       "        'series', 'youtu', 'james', 'wars', 'episodes', 'world',\n",
       "        'official', 'nlike', 'nwatch', 'snl', '2018', 'tumblr', 'react',\n",
       "        'mythical', 'celebrity', 'entertainment', 'trailer', 'nbc',\n",
       "        'comedy', 'season', 'channel', 'movie', 'star', 'gl', 'goo',\n",
       "        'corden', 'voice', 'tmz', 'colbert', 'night', 'bravo', 'fbe',\n",
       "        'nhttp', 'funny', 'video', 'videos', 'jimmy', 'cbs', 'ellen',\n",
       "        'nhttps', 'live', 'netflix', 'late', 'kimmel'], dtype='<U69'),\n",
       " 23: array(['shots', 'ygs', 'anthony', 'happiness', 'shorts', 'celebrities',\n",
       "        'ncast', 'brien', 'nfacebook', 'liza', 'cracked', 'games', 'stand',\n",
       "        'padilla', 'hannah', '35', 'like', 'satire', 'tweets',\n",
       "        'television', 'exclusives', 'plus', 'jacksfilms', 'nproduction',\n",
       "        'nthe', 'cyanide', 'nwatch', 'youtu', 'jokes', 'celebrity',\n",
       "        'nhttps', 'yiay', 'pons', 'smosh', 'nshots', '1dm1qbh', '1nwt1an',\n",
       "        'parodies', 'sketch', 'monologue', 'mancuso', 'stocking', 'list',\n",
       "        'gl', 'goo', 'nhttp', 'ninstagram', 'parody', 'comedic', 'humor',\n",
       "        'singh', 'hashtags', 'alesso', 'ntwitter', 'anitta', 'snl', 'talk',\n",
       "        'lilly', 'nlate', 'channel', 'nget', 'hart', 'jibawi', 'explosm',\n",
       "        'sarkis', 'iisuperwomanii', 'live', 'inanna', 'weeknights',\n",
       "        'teamcoco', 'rudymancuso', '35c', 'hannahstocking', 'videos',\n",
       "        'collegehumor', 'sketches', 'lelepons', 'conan', 'nlike', 'anwar',\n",
       "        'google', 'jimmyfallon', 'starring', 'video', 'nbctv', 'late',\n",
       "        'funny', 'tumblr', 'seth', 'night', 'meyers', 'latenightseth',\n",
       "        'comedy', 'fallontonight', 'nnbc', 'kimmel', 'tonight', 'jimmy',\n",
       "        'fallon', 'nbc'], dtype='<U69'),\n",
       " 28: array(['diy', 'water', 'id', 'fingerprint', 'smart', 'people', 'ces',\n",
       "        'nlm', 'ncbi', 'world', 'home', 'linustech', 'gear', 'gaming',\n",
       "        'mitchellmoffit', 'setup', 'cnet', 'nih', 'roadster', 'press',\n",
       "        'homepod', 'austinnotduncan', 'robot', 'links', 'rocket', 'wired',\n",
       "        'article', 'ntwitter', 'electroboom', 'vtiwleu0s4v34the',\n",
       "        'numberphile', 'use', 'rover', 'ninstagram', 'linustechtips',\n",
       "        'camera', 'technology', 'heavy', 'time', 'nfacebook', 'launch',\n",
       "        '2017', 'printer', 'imac', 'vs', 'like', 'nasa', 'moffit', 'pro',\n",
       "        'crazyrussianhacker', '2018', 'deals', 'tesla', 'pdf', 'amazon',\n",
       "        'printing', 'org', 'samsung', 'whalewatchmeplz', 'space', 'nthe',\n",
       "        'make', 'hydraulic', 'verge', 'unboxing', 'test', 'spacex',\n",
       "        'pixel', 'falcon', 'best', 'galaxy', 'review', '10', 'patreon',\n",
       "        'waterjet', 'phone', 'gov', 'channel', 'videos', 's9',\n",
       "        'smartphone', 'apple', 'asapscience', 'tech', '3d', 'amzn',\n",
       "        'gadgets', 'google', 'goo', 'gl', 'science', 'video', 'nhttp',\n",
       "        'list', 'mkbhd', 'youtu', 'iphone', 'nhttps', 'vtiwleu0s4v34',\n",
       "        'pl7u4lwxq3wfi_7pgx0c'], dtype='<U69'),\n",
       " 1: array(['robert', 'dum', 'time', 'ntwitter', 'jumanji', 'paramount',\n",
       "        'dionne', 'holtby', 'narration', 'justice', 'tj', 'action',\n",
       "        'tumblr', 'howtocookthat', 'mayim', 'simon', 'ninstagram',\n",
       "        'comedy', 'oscar', 'nwatch', 'dan', 'love', 'website', 's9',\n",
       "        'studios', 'review', 'amazon', 'matpat', 'junkies', '2017', 'user',\n",
       "        'like', 'showman', 'ifc', 'pictures', 'day', 'ralph', 'joe',\n",
       "        'black', 'prozd', 'nordaker', 'incredibles', 'screenprism', 'maze',\n",
       "        'best', 'jurassic', 'cinema', 'gilbert', 'marvel', 'nthe',\n",
       "        'videos', 'jedi', 'films', 'williamsen', 'life', 'teaser',\n",
       "        'spencer', 'world', 'animated', 'movieclips', 'theory', 'nhttp',\n",
       "        'nlike', 'movies', 'starr', 'theaters', 'disney', 'murrell', 'hd',\n",
       "        'gl', 'goo', 'wars', '20th', 'animation', 'star', 'alex', 'video',\n",
       "        'youtu', 'century', 'channel', 'cinemasins', 'sins', 'list', 'a24',\n",
       "        'honest', 'vtiwleu0s4v34', 'pl7u4lwxq3wfi_7pgx0c', 'fox', 'clark',\n",
       "        '2018', 'official', 'nhttps', 'deadpool', 'film', 'screenjunkies',\n",
       "        'hbo', 'trailers', 'itsalexclark', 'trailer', 'movie'],\n",
       "       dtype='<U69'),\n",
       " 25: array(['north', 'larry', 'fbi', 'iraq', 'kurdistan', 'press', 'online',\n",
       "        'kilauea', 'harry', 'catalog', 'reports', 'house', 'stories',\n",
       "        'wedding', 'local', 'ap', 'access', 'nthe', 'government',\n",
       "        'entertainment', 'day', 'check', 'happening', 'jones', 'videos',\n",
       "        'nwatch', 'nytvideo', 'cnb', 'cx', 'euronews', 'science', 'markle',\n",
       "        'bbc', 'washington', 'year', 'coverage', 'nightly', 'events',\n",
       "        'nget', 'people', 'kim', 'technology', 'guardian', 'list',\n",
       "        'eruption', 'york', 'olympics', '0bsajo', 'shooting', 'senate',\n",
       "        'meghan', 'korea', 'izonye', 'u2g06o', 'nvox', 'school', '2018',\n",
       "        'prince', 'playlist', 'royal', 'washingtonpost', 'cnn', 'google',\n",
       "        'xfrz5h', 'headlines', 'reporting', 'times', 'iran', 'donald',\n",
       "        'hoda', 'volcano', 'health', 'amtrak', 'breaking', 'sexual',\n",
       "        'channel', 'business', 'live', 'nassar', 'nhttps', 'ws',\n",
       "        'politics', 'president', 'cnbc', 'cbc', 'latest', 'world', 'goo',\n",
       "        'gl', 'morning', 'cbsn', 'time', 'trump', 'nbcnews', 'video',\n",
       "        'msnbc', 'nbc', 'today', 'vox', 'cbs'], dtype='<U69'),\n",
       " 17: array(['pt', 'dt', 'nflnetwork', 'embiid', 'nvisit', 'social', 'anvil',\n",
       "        'ath', '76ers', 'minute', 'nfc', 'youtu', 'gopro', 'ti',\n",
       "        'commentary', 'playoffs', '2rcglzy', 'pass', 'river', 'nfound',\n",
       "        'st', 'media', 'coverage', 'official', 'hoops', 'nwatch', 'win',\n",
       "        'world', 'team', 'network', 'leaguepass', 'channel', 'like',\n",
       "        'underwater', 'latest', 'cavs', 'videos', 'nget', 'finals',\n",
       "        'raptors', 'wrestling', 'rockets', 'goo', 'gl', 'dudeperfect',\n",
       "        'live', '00', 'raw', 'gs', 'fox', '2017', 'warriors', 'scores',\n",
       "        'jemele', 'college', 'svponyoutube', 'youtubetv', 'nespn', 'डब',\n",
       "        'best', 'sc6', 'sc6onyoutube', 'follow', 'foxs', 'james', 'games',\n",
       "        'nnfl', 'ufc', 'plays', 'latestepisodes', 'subscribetoyoutube',\n",
       "        'firsttakeonyoutube', 'watchespn', 'svp', 'cavaliers', 'perfect',\n",
       "        'league', 'sportscenter', 'ncaa', 'soccer', 'smith', 'nhl', 'vs',\n",
       "        'dude', 'mlb', 'stephen', '2018', 'lebron', 'football', 'game',\n",
       "        'basketball', 'wwe', 'sports', 'es', 'highlights', 'sp', 'pn',\n",
       "        'nba', 'nfl', 'espn'], dtype='<U69'),\n",
       " 10: array(['atlantic', 'gl', 'right', 'calvin', 'goo', 'acoustic', 'nso',\n",
       "        'stream', 'havana', 'guetta', 'make', 'vol', '1thek', 'namazon',\n",
       "        'dance', 'channel', 'napple', 'ndirector', 'cabello', 'applemusic',\n",
       "        'kehlani', 'maluma', 'ptxofficial', 'let', 'youtu', 'want', 'll',\n",
       "        'night', 'tour', 'bloom', 'rca', 'pavilion', 'nmusic', 'time',\n",
       "        'christmas', 'troyesivan', 'marshmello', 'recordings', 'umg',\n",
       "        'gonna', 'apple', 'diplo', 'tmbr', 'nyou', 'play', 'noh', 'mv',\n",
       "        'interscope', 'billboard', 'eminem', 'camila', 'ft', 'nwe',\n",
       "        'pentatonix', 'nstream', 'oh', 'bts', 'nitunes', 'sia', 'way',\n",
       "        'itunes', '2017', 'ninstagram', 'feat', 'islandrecs', 'lyrics',\n",
       "        'yeah', 'nfacebook', 'charlie', 'ntwitter', 'ptx', 'available',\n",
       "        'like', 'audio', 'puth', 'nspotify', 'lk', 'lyric', 'pop', 'live',\n",
       "        'don', 'nand', 'just', 'spotify', '2018', 'song', 'performing',\n",
       "        'love', 'records', 'ni', 'album', 'yt', 'nhttps', 'lnk', 'vevo',\n",
       "        'official', 'nhttp', 'video', 'iqid', 'smarturl'], dtype='<U69'),\n",
       " 15: array(['tarantulas', 'deer', 'ants', 'expert', 'nature', 'nwant', 'coon',\n",
       "        'snapchat', 'marmalade', 'na', 'tails', 'taylorndean',\n",
       "        'animalwised', 'grizzly', 'best', 'white', 'puppies', 'nfeb',\n",
       "        'thedo', 'nbrave', 'kitty', 'bite', 'dingo', 'website', 'crew',\n",
       "        'film', 'centipede', 'nplanet', 'breaking', 'discover', 'corgi',\n",
       "        'polar', 'simons', 'raccoon', 'baby', 'nbuy', 'animated', 'love',\n",
       "        'ucinb0wqpz', 'a0dv9narjjloq', 'thedodosite', '4978545017',\n",
       "        'bears', 'animation', 'black', 'barcroft', 'bookbraveadventures',\n",
       "        'adventure', 'world', 'shop', 'adventurer', 'puppy', 'brave',\n",
       "        'nlove', 'planet', 'vet', 'amazing', 'aquarium', 'nwatch',\n",
       "        'bravetickets', 'wildlife', 'ant', 'napril', 'cute', 'donkey',\n",
       "        'kittens', 'pet', 'nq', 'tofield', 'antscanada', 'wilderness',\n",
       "        'pets', 'channel', 'wild', 'trail', 'dogs', 'coyotepeterson',\n",
       "        'thedodo', 'bravewilderness', 'video', 'funny', 'coleandmarmalade',\n",
       "        'goo', 'gl', 'earth', 'kitten', 'videos', 'ncoyote', 'rescue',\n",
       "        'animal', 'bbc', 'peterson', 'animals', 'dodo', 'simonscat',\n",
       "        'cats', 'dog', 'coyote', 'simon', 'cat'], dtype='<U69'),\n",
       " 27: array(['nsupport', 'charles', 'reddit', 'lentz', 'viraansh', 'piya',\n",
       "        'southerland', 'satovsky', 'knupp', 'harshaw', 'bhanushali',\n",
       "        'bealer', 'shedden', 'lutfi', 'terrio', 'thescishow', 'katiemarie',\n",
       "        'wadsworth', 'ashmore', 'magnone', 'commons', 'turbotax',\n",
       "        'history', 'ndirector', 'kevin', 'king', 'wendoverproductions',\n",
       "        'thinkstockphotos', 'todayifoundout', 'noe', 'alghamdi', 'tkor',\n",
       "        'curwick', 'hank', 'health', 'scott', 'school', 'الخليفي', 'make',\n",
       "        '10', 'world', 'photo', 'learn', 'ru', 'stock', 'teded', 'body',\n",
       "        'ninstagram', 'wikimedia', 'htm', 'ed', 'jpg', 'image',\n",
       "        'wikipedia', 'edu', 'en', 'ntwitter', 'educational', 'human',\n",
       "        'nsources', 'pdf', 'bigstockphoto', 'file', 'wendover',\n",
       "        'nfacebook', 'pmc', 'pl8l0mzsk_v6jtedrfrmyb6rfd1acqyslo',\n",
       "        'articles', 'space', 'edutainment', 'channel', 'article',\n",
       "        'lifenogg', 'rjtkhgxmdb0', 'blocko', 'random', 'videos', 'html',\n",
       "        'nlm', 'ncbi', 'ted', 'education', 'wiki', 'list',\n",
       "        'theinfographicsshow', 'lifenoggin', 'nih', 'science', 'video',\n",
       "        'goo', 'gl', 'tomscott', 'patreon', 'gov', 'org', 'nhttp', 'life',\n",
       "        'scishow', 'nhttps', 'noggin'], dtype='<U69'),\n",
       " 26: array(['trends', 'brushes', 'sponsored', 'liner', 'cakes', 'nsnapchat',\n",
       "        'cupcakes', 'nmy', 'collection', 'annaed', 'routine', '2017',\n",
       "        'haul', 'n1', 'brown', 'baking', 'easy', 'gl', 'blush', 'goo',\n",
       "        'tati', 'primer', 'review', 'buzzfeed', 'fashion', 'butter',\n",
       "        'tour', 'eye', 'matte', 'brush', 'nfacebook', 'room', 'life',\n",
       "        'challenge', 'chef', 'nmac', 'cook', 'love', 'appetit', '10',\n",
       "        'affiliate', 'buttercream', 'lashes', 'laurdiy', 'contour',\n",
       "        'cream', 'hot', 'appétit', 'brow', 'ntwitter', 'recipes',\n",
       "        'nikkietutorials', 'drugstore', 'face', 'kitchen', 'mascara',\n",
       "        'like', 'cooking', 'eyeshadow', 'glamlifeguru', 'youtu', 'links',\n",
       "        'uk', 'ninstagram', 'feast', 'rosannapansino', 'use', 'lipstick',\n",
       "        'chocolate', 'lisae', 'skin', 'r29', 'hair', 'concealer', 'lip',\n",
       "        'best', 'products', 'diy', 'powder', 'foundation', 'bon',\n",
       "        'channel', 'code', 'rstyle', 'videos', 'tutorial', 'recipe',\n",
       "        'firstwefeast', 'make', 'food', 'nhttps', 'palette', 'cake',\n",
       "        'amzn', 'cosmetics', 'nhttp', 'beauty', 'video', 'refinery29',\n",
       "        'makeup'], dtype='<U69'),\n",
       " 2: array(['game', 'nthe', 'reeves', 'sport', 'model', 'commercials', 'naias',\n",
       "        'inshanedesigns', 'ndougscore', 'carthrottle', 'devel',\n",
       "        'hyundaiusa', 'mashable', 'ddemuro', 'hoonigan', 'renault',\n",
       "        '1ktarywdwrn52fnc7b12kvjrb6nmceau6gxyehwfszso', '717', '000',\n",
       "        'pontiac', 'odyssey', '2019', 'vehicles', 'trim', 'channel',\n",
       "        'google', 'best', 'ad', 'prix', 'roadshow', 'sedan', 'caterham',\n",
       "        'previa', 'windshield', 'macau', 'hvdh', 'keanu', 'giveaway',\n",
       "        'viralhog', 'marvel', 'world', 'electric', 'ntwitter', 'carmax',\n",
       "        'c8', 'engineeringexplained', 'ghibli', 'bullitt', 'nfacebook',\n",
       "        'ninstagram', 'wired', 'auto', 'ces', 'gl', 'goo', 'videos',\n",
       "        'kona', 'mercedes', 'range', 'gt', 'chevy', 'suv', 'velar',\n",
       "        'vehicle', 'spyker', 'navigator', 'chevrolet', 'nhttps',\n",
       "        'dougdemuro', 'byton', 'cars', 'diesel', 'blades', 'ramtrucks',\n",
       "        'stinger', 'vw', 'demuro', 'rover', 'kia', 'silverado', 'maserati',\n",
       "        'minivan', 'video', 'truck', 'tesla', 'ford', 'bowl', 'wiper',\n",
       "        'super', 'trucks', 'commercial', '2018', 'mustang', 'toyota',\n",
       "        'honda', 'hyundai', 'jeep', 'ram', 'car', 'lexus'], dtype='<U69'),\n",
       " 19: array(['martina', 'noodles', 'pandora', 'tourism', 'fast', 'james', 'way',\n",
       "        'use', 'liked', 'clothmap', 'foodrangermusic', 'learner', 'accra',\n",
       "        'vietnamese', 'nhttp', 'noodle', 'wagyu', 'heaven', 'trump',\n",
       "        'american', 'nthe', 'like', 'nfacebook', 'make', 'visit', 'ojo',\n",
       "        'conde', 'simonandmartina', 'gondwana', 'foodranger', 'kimchi',\n",
       "        'life', 'avatar', 'instagr', 'eating', 'love', 'sandwich',\n",
       "        'tongue', 'adventure', 'nstrictly', 'mikexingchen', 'twisters',\n",
       "        'shithole', 'gl', 'goo', 'trevor', 'try', 'breakfast', 'pho',\n",
       "        'puebla', 'anthem', 'people', 'national', 'eatyourkimchi',\n",
       "        'accent', 'taiwan', 'tour', 'cooking', 'tacos', 'oaxaca',\n",
       "        'channel', 'nhttps', 'pan', 'parks', 'video', 'insider', 'spicy',\n",
       "        'condé', 'dumpling', 'amritsar', '70', 'eat', 'curry', 'di',\n",
       "        'countries', 'kolkata', 'thefoodranger', 'ninsider', 'market',\n",
       "        'amazing', 'videos', 'mexican', 'nast', 'walt', 'delicious',\n",
       "        'mexico', 'thisisinsider', 'traveler', 'sn', 'travel', 'india',\n",
       "        'indian', 'ranger', 'disney', 'best', 'buffet', 'amzn', 'world',\n",
       "        'street', 'food'], dtype='<U69'),\n",
       " 20: array(['nindies', 'treyarch', 'objective', '2077', 'direct', 'breath',\n",
       "        'zelda', 'unreal', 'awards', 'ninstagram', 'ntwitter', 'towers',\n",
       "        'rating', 'halo', 'odyssey', 'ihascupquake', 'action', 'latest',\n",
       "        'adventure', 'rascals', 'rugfaze', 'irelia', 'star', 'champions',\n",
       "        'live', 'faze', 'assassin', 'animation', 'cyberpunk', 'kirby',\n",
       "        'dantdm', 'homeless', 'nintendofollow', 'playoverwatch', 'epic',\n",
       "        'creed', 'best', 'battlefront', 'mario', 'sims', '2017', 'world',\n",
       "        'expansion', 'splatoon', 'callofduty', 'gamexplain', 'pinterest',\n",
       "        'fun', 'shooter', 'ubisoft', 'wars', 'anthem', '09xfdp',\n",
       "        'nintendoamerica', 'official', 'ballad', 'super', 'goo', 'gl',\n",
       "        'matpat', 'pc', 'nintendoswitch', 'ps4', 'pikachu', 'dunkey',\n",
       "        'bros', 'multiplayer', 'clans', 'google', 'clan', 'rug', 'smash',\n",
       "        'rpg', 'dlc', 'video', 'overwatch', 'markiplier', 'battle',\n",
       "        'theory', 'trailer', 'battlefield', 'madden', 'games', 'labo',\n",
       "        '2018', 'play', 'supercell', 'ign', 'xbox', 'switch', 'royale',\n",
       "        'gameplay', 'clash', 'fortnite', 'pokemon', 'fnaf', 'pokémon',\n",
       "        'e3', 'game', 'nintendo'], dtype='<U69'),\n",
       " 29: array(['safety', 'opening', 'streets', 'jennifer', 'rose', 'warn',\n",
       "        'meyers', 'stories', 'world', 'kevin', 'media', 'ceremony',\n",
       "        'president', 'jordan', 'lawrence', 'bonnie', 'pill', 'gat', 'nsc',\n",
       "        'late', 'national', 'face', 'works', 'sharks', 'presidential',\n",
       "        'daca', 'glaser', 'severe', 'undocumented', 'pills', 'за',\n",
       "        'richard', 'winner', 'hollywood', 'video', 'live', 'bridge',\n",
       "        'nadya', 'только', 'fins', 'overpopulation', 'mcgowan', 'night',\n",
       "        'hard', 'paul', 'painter', 'poverty', 'presented', 'writer',\n",
       "        'immigrants', '2018', 'social', 'seattle', 'obama', 'faze',\n",
       "        'logan', 'america', 'gates', 'nlearn', 'tig', 'klepper', 'time',\n",
       "        'nhttps', 'story', 'prescription', 'nina', 'notaro', 'lifeline',\n",
       "        'woman', 'amber', 'rosling', 'horvath', 'finning', 'нам',\n",
       "        'навального', 'prevention', 'shark', 'awards', 'award',\n",
       "        'invisible', 'teen', 'opioid', 'ninvisible', 'tent', 'bamba', '21',\n",
       "        'unrig', 'vogue', 'homelessness', 'ruffin', 'suicide', 'writers',\n",
       "        'на', 'manda', 'people', 'guild', 'defineamerican', 'navalny',\n",
       "        'invisiblepeople', 'homeless'], dtype='<U69'),\n",
       " 43: array(['look', 'angeles', 'west', 'series', 'link', 'sub_confirmation',\n",
       "        'user', 'los', 'lithium', 'kerr', 'avery', 'towns', 'rivers',\n",
       "        'throttle', 'sacramento', 'oklahoma', 'imac', 'overwhelming',\n",
       "        'isle', 'playoffs', 'mini', 'review', 'golden', 'ndownload',\n",
       "        'slow', 'merch', 'amazon', 'paul', 'island', 'brian', 'swaggy',\n",
       "        'carmelo', 'drummond', 'shutdown', 'lte', 'alonzo', 'timberwolves',\n",
       "        'preorder', 'e1', 'steve', 'sports', 'preview', 'comedy', 'report',\n",
       "        'anthony', 'coverage', 'ion', 'javale', 'pistons', 'mccaw',\n",
       "        'knicks', 'klay', 'cpu', '1follow', 'clippers', 'older', 'blake',\n",
       "        'playlists', 'warriors', 'nlike', 'detroit', 'battery', 'nba',\n",
       "        'se', 'parody', 'google', 'stan', 'smart', 'lebron', 's8',\n",
       "        'durant', 's9', 'iphones', 'exclusive', 'ios', 's5', 'slowing',\n",
       "        'br', 'app', 'airpods', 'curry', 'echo', 'home', 'bleacher',\n",
       "        '2g8kcf4', '2herhep', 'gwuxq8exzg', '2iccyym', 'van', 'plus', '6s',\n",
       "        'game', 'byte', 'gundy', 'homepod', 'apple', 'bleacherreport',\n",
       "        'zones', 'iphone', 'cnet'], dtype='<U69')}"
      ]
     },
     "execution_count": 4,
     "metadata": {},
     "output_type": "execute_result"
    }
   ],
   "source": [
    "topk_dict"
   ]
  },
  {
   "cell_type": "code",
   "execution_count": null,
   "metadata": {},
   "outputs": [],
   "source": []
  }
 ],
 "metadata": {
  "kernelspec": {
   "display_name": "Python [conda env:py36_main] *",
   "language": "python",
   "name": "conda-env-py36_main-py"
  },
  "language_info": {
   "codemirror_mode": {
    "name": "ipython",
    "version": 3
   },
   "file_extension": ".py",
   "mimetype": "text/x-python",
   "name": "python",
   "nbconvert_exporter": "python",
   "pygments_lexer": "ipython3",
   "version": "3.6.9"
  }
 },
 "nbformat": 4,
 "nbformat_minor": 2
}
